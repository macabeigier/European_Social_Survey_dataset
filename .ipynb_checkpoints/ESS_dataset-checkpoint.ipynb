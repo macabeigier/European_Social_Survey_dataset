{
 "cells": [
  {
   "cell_type": "code",
   "execution_count": 1,
   "metadata": {},
   "outputs": [],
   "source": [
    "import numpy as np\n",
    "import pandas as pd\n",
    "import seaborn as sns\n",
    "import matplotlib.pyplot as plt\n",
    "%matplotlib inline"
   ]
  },
  {
   "cell_type": "markdown",
   "metadata": {},
   "source": [
    "### European Social Survey (ESS) dataset\n",
    "\n",
    "**Goal**\\\n",
    "Generate visualizations to compare the levels of subjective well-being, social exclusion and religion in Germany (DE), Austria (AU), Switzerland (CH) and Spain (ES).\n",
    "\n",
    "**Data**\\\n",
    "The ESS is an academically-driven multi-country survey, which has been administered in over 30 countries to date. Its three aims are:\n",
    "\n",
    " 1. monitor and interpret changing public attitudes and values within Europe\n",
    " 2. advance and consolidate improved methods of cross-national survey measurement in Europe\n",
    " 3. develop a series of European social indicators, including attitudinal indicators\n",
    " \n",
    "In the dataset chosen for this sutudy we find cumulative data in the integrated ESS files in two or more rounds about people in Germany (DE), Austria (AU), Switzerland (CH) and Spain (ES) in the ESS round 8 (year 2016). \n",
    "\n",
    "**Features**\\\n",
    "subjective well-being; social exclusion; religion."
   ]
  },
  {
   "cell_type": "markdown",
   "metadata": {},
   "source": [
    "**Read the file:**"
   ]
  },
  {
   "cell_type": "code",
   "execution_count": 2,
   "metadata": {},
   "outputs": [],
   "source": [
    "df = pd.read_csv('ESS1-8e01.csv')"
   ]
  },
  {
   "cell_type": "code",
   "execution_count": 3,
   "metadata": {},
   "outputs": [
    {
     "data": {
      "text/html": [
       "<div>\n",
       "<style scoped>\n",
       "    .dataframe tbody tr th:only-of-type {\n",
       "        vertical-align: middle;\n",
       "    }\n",
       "\n",
       "    .dataframe tbody tr th {\n",
       "        vertical-align: top;\n",
       "    }\n",
       "\n",
       "    .dataframe thead th {\n",
       "        text-align: right;\n",
       "    }\n",
       "</style>\n",
       "<table border=\"1\" class=\"dataframe\">\n",
       "  <thead>\n",
       "    <tr style=\"text-align: right;\">\n",
       "      <th></th>\n",
       "      <th>cntry</th>\n",
       "      <th>cname</th>\n",
       "      <th>cedition</th>\n",
       "      <th>cproddat</th>\n",
       "      <th>cseqno</th>\n",
       "      <th>name</th>\n",
       "      <th>essround</th>\n",
       "      <th>edition</th>\n",
       "      <th>idno</th>\n",
       "      <th>dweight</th>\n",
       "      <th>...</th>\n",
       "      <th>facntr</th>\n",
       "      <th>facntn</th>\n",
       "      <th>fbrncnt</th>\n",
       "      <th>fbrncnta</th>\n",
       "      <th>fbrncntb</th>\n",
       "      <th>mocntr</th>\n",
       "      <th>mocntn</th>\n",
       "      <th>mbrncnt</th>\n",
       "      <th>mbrncnta</th>\n",
       "      <th>mbrncntb</th>\n",
       "    </tr>\n",
       "  </thead>\n",
       "  <tbody>\n",
       "    <tr>\n",
       "      <th>0</th>\n",
       "      <td>AT</td>\n",
       "      <td>ESS1-8e01</td>\n",
       "      <td>1.0</td>\n",
       "      <td>12.12.2018</td>\n",
       "      <td>8714</td>\n",
       "      <td>ESS8e02_1</td>\n",
       "      <td>8</td>\n",
       "      <td>2.1</td>\n",
       "      <td>1</td>\n",
       "      <td>0.611677</td>\n",
       "      <td>...</td>\n",
       "      <td>2</td>\n",
       "      <td>NaN</td>\n",
       "      <td>NaN</td>\n",
       "      <td>NaN</td>\n",
       "      <td>DE</td>\n",
       "      <td>2</td>\n",
       "      <td>NaN</td>\n",
       "      <td>NaN</td>\n",
       "      <td>NaN</td>\n",
       "      <td>DE</td>\n",
       "    </tr>\n",
       "    <tr>\n",
       "      <th>1</th>\n",
       "      <td>AT</td>\n",
       "      <td>ESS1-8e01</td>\n",
       "      <td>1.0</td>\n",
       "      <td>12.12.2018</td>\n",
       "      <td>8715</td>\n",
       "      <td>ESS8e02_1</td>\n",
       "      <td>8</td>\n",
       "      <td>2.1</td>\n",
       "      <td>2</td>\n",
       "      <td>1.223354</td>\n",
       "      <td>...</td>\n",
       "      <td>2</td>\n",
       "      <td>NaN</td>\n",
       "      <td>NaN</td>\n",
       "      <td>NaN</td>\n",
       "      <td>DE</td>\n",
       "      <td>2</td>\n",
       "      <td>NaN</td>\n",
       "      <td>NaN</td>\n",
       "      <td>NaN</td>\n",
       "      <td>DE</td>\n",
       "    </tr>\n",
       "    <tr>\n",
       "      <th>2</th>\n",
       "      <td>AT</td>\n",
       "      <td>ESS1-8e01</td>\n",
       "      <td>1.0</td>\n",
       "      <td>12.12.2018</td>\n",
       "      <td>8716</td>\n",
       "      <td>ESS8e02_1</td>\n",
       "      <td>8</td>\n",
       "      <td>2.1</td>\n",
       "      <td>4</td>\n",
       "      <td>0.389058</td>\n",
       "      <td>...</td>\n",
       "      <td>1</td>\n",
       "      <td>NaN</td>\n",
       "      <td>NaN</td>\n",
       "      <td>NaN</td>\n",
       "      <td>66</td>\n",
       "      <td>1</td>\n",
       "      <td>NaN</td>\n",
       "      <td>NaN</td>\n",
       "      <td>NaN</td>\n",
       "      <td>66</td>\n",
       "    </tr>\n",
       "    <tr>\n",
       "      <th>3</th>\n",
       "      <td>AT</td>\n",
       "      <td>ESS1-8e01</td>\n",
       "      <td>1.0</td>\n",
       "      <td>12.12.2018</td>\n",
       "      <td>8717</td>\n",
       "      <td>ESS8e02_1</td>\n",
       "      <td>8</td>\n",
       "      <td>2.1</td>\n",
       "      <td>6</td>\n",
       "      <td>0.642594</td>\n",
       "      <td>...</td>\n",
       "      <td>1</td>\n",
       "      <td>NaN</td>\n",
       "      <td>NaN</td>\n",
       "      <td>NaN</td>\n",
       "      <td>66</td>\n",
       "      <td>1</td>\n",
       "      <td>NaN</td>\n",
       "      <td>NaN</td>\n",
       "      <td>NaN</td>\n",
       "      <td>66</td>\n",
       "    </tr>\n",
       "    <tr>\n",
       "      <th>4</th>\n",
       "      <td>AT</td>\n",
       "      <td>ESS1-8e01</td>\n",
       "      <td>1.0</td>\n",
       "      <td>12.12.2018</td>\n",
       "      <td>8718</td>\n",
       "      <td>ESS8e02_1</td>\n",
       "      <td>8</td>\n",
       "      <td>2.1</td>\n",
       "      <td>10</td>\n",
       "      <td>3.432402</td>\n",
       "      <td>...</td>\n",
       "      <td>2</td>\n",
       "      <td>NaN</td>\n",
       "      <td>NaN</td>\n",
       "      <td>NaN</td>\n",
       "      <td>TR</td>\n",
       "      <td>2</td>\n",
       "      <td>NaN</td>\n",
       "      <td>NaN</td>\n",
       "      <td>NaN</td>\n",
       "      <td>TR</td>\n",
       "    </tr>\n",
       "  </tbody>\n",
       "</table>\n",
       "<p>5 rows × 78 columns</p>\n",
       "</div>"
      ],
      "text/plain": [
       "  cntry      cname  cedition    cproddat  cseqno       name  essround  \\\n",
       "0    AT  ESS1-8e01       1.0  12.12.2018    8714  ESS8e02_1         8   \n",
       "1    AT  ESS1-8e01       1.0  12.12.2018    8715  ESS8e02_1         8   \n",
       "2    AT  ESS1-8e01       1.0  12.12.2018    8716  ESS8e02_1         8   \n",
       "3    AT  ESS1-8e01       1.0  12.12.2018    8717  ESS8e02_1         8   \n",
       "4    AT  ESS1-8e01       1.0  12.12.2018    8718  ESS8e02_1         8   \n",
       "\n",
       "   edition  idno   dweight  ...  facntr  facntn  fbrncnt  fbrncnta  fbrncntb  \\\n",
       "0      2.1     1  0.611677  ...       2     NaN      NaN       NaN        DE   \n",
       "1      2.1     2  1.223354  ...       2     NaN      NaN       NaN        DE   \n",
       "2      2.1     4  0.389058  ...       1     NaN      NaN       NaN        66   \n",
       "3      2.1     6  0.642594  ...       1     NaN      NaN       NaN        66   \n",
       "4      2.1    10  3.432402  ...       2     NaN      NaN       NaN        TR   \n",
       "\n",
       "   mocntr  mocntn  mbrncnt  mbrncnta  mbrncntb  \n",
       "0       2     NaN      NaN       NaN        DE  \n",
       "1       2     NaN      NaN       NaN        DE  \n",
       "2       1     NaN      NaN       NaN        66  \n",
       "3       1     NaN      NaN       NaN        66  \n",
       "4       2     NaN      NaN       NaN        TR  \n",
       "\n",
       "[5 rows x 78 columns]"
      ]
     },
     "execution_count": 3,
     "metadata": {},
     "output_type": "execute_result"
    }
   ],
   "source": [
    "df.head()"
   ]
  },
  {
   "cell_type": "markdown",
   "metadata": {},
   "source": [
    "**Describe the dataset:**"
   ]
  },
  {
   "cell_type": "code",
   "execution_count": 4,
   "metadata": {},
   "outputs": [
    {
     "data": {
      "text/plain": [
       "(8345, 78)"
      ]
     },
     "execution_count": 4,
     "metadata": {},
     "output_type": "execute_result"
    }
   ],
   "source": [
    "df.shape"
   ]
  },
  {
   "cell_type": "code",
   "execution_count": 5,
   "metadata": {},
   "outputs": [
    {
     "data": {
      "text/plain": [
       "Index(['cntry', 'cname', 'cedition', 'cproddat', 'cseqno', 'name', 'essround',\n",
       "       'edition', 'idno', 'dweight', 'pspwght', 'pweight', 'happy', 'sclmeet',\n",
       "       'inmdisc', 'inprdsc', 'sclact', 'crmvct', 'aesfdrk', 'brghmwr',\n",
       "       'brghmef', 'crvctwr', 'crvctef', 'trrenyr', 'trrcnyr', 'trrprsn',\n",
       "       'trrtort', 'health', 'hlthhmp', 'rlgblg', 'rlgdnm', 'rlgblge',\n",
       "       'rlgdnme', 'rlgdgr', 'rlgatnd', 'pray', 'dscrgrp', 'dscrrce', 'dscrntn',\n",
       "       'dscrrlg', 'dscrlng', 'dscretn', 'dscrage', 'dscrgnd', 'dscrsex',\n",
       "       'dscrdsb', 'dscroth', 'dscrdk', 'dscrref', 'dscrnap', 'dscrna',\n",
       "       'ctzcntr', 'ctzship', 'ctzshipa', 'ctzshipb', 'ctzshipc', 'brncntr',\n",
       "       'cntbrth', 'cntbrtha', 'cntbrthb', 'cntbrthc', 'livecntr', 'livecnta',\n",
       "       'lnghoma', 'lnghom1', 'lnghomb', 'lnghom2', 'blgetmg', 'facntr',\n",
       "       'facntn', 'fbrncnt', 'fbrncnta', 'fbrncntb', 'mocntr', 'mocntn',\n",
       "       'mbrncnt', 'mbrncnta', 'mbrncntb'],\n",
       "      dtype='object')"
      ]
     },
     "execution_count": 5,
     "metadata": {},
     "output_type": "execute_result"
    }
   ],
   "source": [
    "df.columns"
   ]
  },
  {
   "cell_type": "code",
   "execution_count": 6,
   "metadata": {},
   "outputs": [
    {
     "data": {
      "text/plain": [
       "cntry        object\n",
       "cname        object\n",
       "cedition    float64\n",
       "cproddat     object\n",
       "cseqno        int64\n",
       "             ...   \n",
       "mocntr        int64\n",
       "mocntn      float64\n",
       "mbrncnt     float64\n",
       "mbrncnta    float64\n",
       "mbrncntb     object\n",
       "Length: 78, dtype: object"
      ]
     },
     "execution_count": 6,
     "metadata": {},
     "output_type": "execute_result"
    }
   ],
   "source": [
    "df.dtypes"
   ]
  },
  {
   "cell_type": "code",
   "execution_count": 7,
   "metadata": {},
   "outputs": [
    {
     "data": {
      "text/html": [
       "<div>\n",
       "<style scoped>\n",
       "    .dataframe tbody tr th:only-of-type {\n",
       "        vertical-align: middle;\n",
       "    }\n",
       "\n",
       "    .dataframe tbody tr th {\n",
       "        vertical-align: top;\n",
       "    }\n",
       "\n",
       "    .dataframe thead th {\n",
       "        text-align: right;\n",
       "    }\n",
       "</style>\n",
       "<table border=\"1\" class=\"dataframe\">\n",
       "  <thead>\n",
       "    <tr style=\"text-align: right;\">\n",
       "      <th></th>\n",
       "      <th>cedition</th>\n",
       "      <th>cseqno</th>\n",
       "      <th>essround</th>\n",
       "      <th>edition</th>\n",
       "      <th>idno</th>\n",
       "      <th>dweight</th>\n",
       "      <th>pspwght</th>\n",
       "      <th>pweight</th>\n",
       "      <th>happy</th>\n",
       "      <th>sclmeet</th>\n",
       "      <th>...</th>\n",
       "      <th>lnghomb</th>\n",
       "      <th>blgetmg</th>\n",
       "      <th>facntr</th>\n",
       "      <th>facntn</th>\n",
       "      <th>fbrncnt</th>\n",
       "      <th>fbrncnta</th>\n",
       "      <th>mocntr</th>\n",
       "      <th>mocntn</th>\n",
       "      <th>mbrncnt</th>\n",
       "      <th>mbrncnta</th>\n",
       "    </tr>\n",
       "  </thead>\n",
       "  <tbody>\n",
       "    <tr>\n",
       "      <th>count</th>\n",
       "      <td>8345.0</td>\n",
       "      <td>8345.000000</td>\n",
       "      <td>8345.0</td>\n",
       "      <td>8.345000e+03</td>\n",
       "      <td>8.345000e+03</td>\n",
       "      <td>8345.000000</td>\n",
       "      <td>8345.000000</td>\n",
       "      <td>8345.000000</td>\n",
       "      <td>8345.000000</td>\n",
       "      <td>8345.000000</td>\n",
       "      <td>...</td>\n",
       "      <td>0.0</td>\n",
       "      <td>8345.000000</td>\n",
       "      <td>8345.000000</td>\n",
       "      <td>0.0</td>\n",
       "      <td>0.0</td>\n",
       "      <td>0.0</td>\n",
       "      <td>8345.000000</td>\n",
       "      <td>0.0</td>\n",
       "      <td>0.0</td>\n",
       "      <td>0.0</td>\n",
       "    </tr>\n",
       "    <tr>\n",
       "      <th>mean</th>\n",
       "      <td>1.0</td>\n",
       "      <td>71445.818095</td>\n",
       "      <td>8.0</td>\n",
       "      <td>2.100000e+00</td>\n",
       "      <td>3.666357e+06</td>\n",
       "      <td>1.000000</td>\n",
       "      <td>1.000000</td>\n",
       "      <td>1.500833</td>\n",
       "      <td>7.952427</td>\n",
       "      <td>5.128820</td>\n",
       "      <td>...</td>\n",
       "      <td>NaN</td>\n",
       "      <td>2.030677</td>\n",
       "      <td>1.214979</td>\n",
       "      <td>NaN</td>\n",
       "      <td>NaN</td>\n",
       "      <td>NaN</td>\n",
       "      <td>1.195806</td>\n",
       "      <td>NaN</td>\n",
       "      <td>NaN</td>\n",
       "      <td>NaN</td>\n",
       "    </tr>\n",
       "    <tr>\n",
       "      <th>std</th>\n",
       "      <td>0.0</td>\n",
       "      <td>43725.058864</td>\n",
       "      <td>0.0</td>\n",
       "      <td>4.441158e-16</td>\n",
       "      <td>5.222919e+06</td>\n",
       "      <td>0.317794</td>\n",
       "      <td>0.496486</td>\n",
       "      <td>0.952164</td>\n",
       "      <td>3.966605</td>\n",
       "      <td>3.322627</td>\n",
       "      <td>...</td>\n",
       "      <td>NaN</td>\n",
       "      <td>0.765394</td>\n",
       "      <td>0.597848</td>\n",
       "      <td>NaN</td>\n",
       "      <td>NaN</td>\n",
       "      <td>NaN</td>\n",
       "      <td>0.477697</td>\n",
       "      <td>NaN</td>\n",
       "      <td>NaN</td>\n",
       "      <td>NaN</td>\n",
       "    </tr>\n",
       "    <tr>\n",
       "      <th>min</th>\n",
       "      <td>1.0</td>\n",
       "      <td>8714.000000</td>\n",
       "      <td>8.0</td>\n",
       "      <td>2.100000e+00</td>\n",
       "      <td>1.000000e+00</td>\n",
       "      <td>0.281168</td>\n",
       "      <td>0.174738</td>\n",
       "      <td>0.370393</td>\n",
       "      <td>0.000000</td>\n",
       "      <td>1.000000</td>\n",
       "      <td>...</td>\n",
       "      <td>NaN</td>\n",
       "      <td>1.000000</td>\n",
       "      <td>1.000000</td>\n",
       "      <td>NaN</td>\n",
       "      <td>NaN</td>\n",
       "      <td>NaN</td>\n",
       "      <td>1.000000</td>\n",
       "      <td>NaN</td>\n",
       "      <td>NaN</td>\n",
       "      <td>NaN</td>\n",
       "    </tr>\n",
       "    <tr>\n",
       "      <th>25%</th>\n",
       "      <td>1.0</td>\n",
       "      <td>45802.000000</td>\n",
       "      <td>8.0</td>\n",
       "      <td>2.100000e+00</td>\n",
       "      <td>1.338000e+03</td>\n",
       "      <td>0.893642</td>\n",
       "      <td>0.721510</td>\n",
       "      <td>0.464940</td>\n",
       "      <td>7.000000</td>\n",
       "      <td>4.000000</td>\n",
       "      <td>...</td>\n",
       "      <td>NaN</td>\n",
       "      <td>2.000000</td>\n",
       "      <td>1.000000</td>\n",
       "      <td>NaN</td>\n",
       "      <td>NaN</td>\n",
       "      <td>NaN</td>\n",
       "      <td>1.000000</td>\n",
       "      <td>NaN</td>\n",
       "      <td>NaN</td>\n",
       "      <td>NaN</td>\n",
       "    </tr>\n",
       "    <tr>\n",
       "      <th>50%</th>\n",
       "      <td>1.0</td>\n",
       "      <td>88003.000000</td>\n",
       "      <td>8.0</td>\n",
       "      <td>2.100000e+00</td>\n",
       "      <td>2.645000e+03</td>\n",
       "      <td>1.000000</td>\n",
       "      <td>0.948544</td>\n",
       "      <td>2.013008</td>\n",
       "      <td>8.000000</td>\n",
       "      <td>5.000000</td>\n",
       "      <td>...</td>\n",
       "      <td>NaN</td>\n",
       "      <td>2.000000</td>\n",
       "      <td>1.000000</td>\n",
       "      <td>NaN</td>\n",
       "      <td>NaN</td>\n",
       "      <td>NaN</td>\n",
       "      <td>1.000000</td>\n",
       "      <td>NaN</td>\n",
       "      <td>NaN</td>\n",
       "      <td>NaN</td>\n",
       "    </tr>\n",
       "    <tr>\n",
       "      <th>75%</th>\n",
       "      <td>1.0</td>\n",
       "      <td>90089.000000</td>\n",
       "      <td>8.0</td>\n",
       "      <td>2.100000e+00</td>\n",
       "      <td>1.000315e+07</td>\n",
       "      <td>1.237005</td>\n",
       "      <td>1.173244</td>\n",
       "      <td>2.499809</td>\n",
       "      <td>9.000000</td>\n",
       "      <td>6.000000</td>\n",
       "      <td>...</td>\n",
       "      <td>NaN</td>\n",
       "      <td>2.000000</td>\n",
       "      <td>1.000000</td>\n",
       "      <td>NaN</td>\n",
       "      <td>NaN</td>\n",
       "      <td>NaN</td>\n",
       "      <td>1.000000</td>\n",
       "      <td>NaN</td>\n",
       "      <td>NaN</td>\n",
       "      <td>NaN</td>\n",
       "    </tr>\n",
       "    <tr>\n",
       "      <th>max</th>\n",
       "      <td>1.0</td>\n",
       "      <td>129964.000000</td>\n",
       "      <td>8.0</td>\n",
       "      <td>2.100000e+00</td>\n",
       "      <td>1.930005e+07</td>\n",
       "      <td>4.322880</td>\n",
       "      <td>4.000091</td>\n",
       "      <td>2.499809</td>\n",
       "      <td>88.000000</td>\n",
       "      <td>99.000000</td>\n",
       "      <td>...</td>\n",
       "      <td>NaN</td>\n",
       "      <td>9.000000</td>\n",
       "      <td>9.000000</td>\n",
       "      <td>NaN</td>\n",
       "      <td>NaN</td>\n",
       "      <td>NaN</td>\n",
       "      <td>9.000000</td>\n",
       "      <td>NaN</td>\n",
       "      <td>NaN</td>\n",
       "      <td>NaN</td>\n",
       "    </tr>\n",
       "  </tbody>\n",
       "</table>\n",
       "<p>8 rows × 68 columns</p>\n",
       "</div>"
      ],
      "text/plain": [
       "       cedition         cseqno  essround       edition          idno  \\\n",
       "count    8345.0    8345.000000    8345.0  8.345000e+03  8.345000e+03   \n",
       "mean        1.0   71445.818095       8.0  2.100000e+00  3.666357e+06   \n",
       "std         0.0   43725.058864       0.0  4.441158e-16  5.222919e+06   \n",
       "min         1.0    8714.000000       8.0  2.100000e+00  1.000000e+00   \n",
       "25%         1.0   45802.000000       8.0  2.100000e+00  1.338000e+03   \n",
       "50%         1.0   88003.000000       8.0  2.100000e+00  2.645000e+03   \n",
       "75%         1.0   90089.000000       8.0  2.100000e+00  1.000315e+07   \n",
       "max         1.0  129964.000000       8.0  2.100000e+00  1.930005e+07   \n",
       "\n",
       "           dweight      pspwght      pweight        happy      sclmeet  ...  \\\n",
       "count  8345.000000  8345.000000  8345.000000  8345.000000  8345.000000  ...   \n",
       "mean      1.000000     1.000000     1.500833     7.952427     5.128820  ...   \n",
       "std       0.317794     0.496486     0.952164     3.966605     3.322627  ...   \n",
       "min       0.281168     0.174738     0.370393     0.000000     1.000000  ...   \n",
       "25%       0.893642     0.721510     0.464940     7.000000     4.000000  ...   \n",
       "50%       1.000000     0.948544     2.013008     8.000000     5.000000  ...   \n",
       "75%       1.237005     1.173244     2.499809     9.000000     6.000000  ...   \n",
       "max       4.322880     4.000091     2.499809    88.000000    99.000000  ...   \n",
       "\n",
       "       lnghomb      blgetmg       facntr  facntn  fbrncnt  fbrncnta  \\\n",
       "count      0.0  8345.000000  8345.000000     0.0      0.0       0.0   \n",
       "mean       NaN     2.030677     1.214979     NaN      NaN       NaN   \n",
       "std        NaN     0.765394     0.597848     NaN      NaN       NaN   \n",
       "min        NaN     1.000000     1.000000     NaN      NaN       NaN   \n",
       "25%        NaN     2.000000     1.000000     NaN      NaN       NaN   \n",
       "50%        NaN     2.000000     1.000000     NaN      NaN       NaN   \n",
       "75%        NaN     2.000000     1.000000     NaN      NaN       NaN   \n",
       "max        NaN     9.000000     9.000000     NaN      NaN       NaN   \n",
       "\n",
       "            mocntr  mocntn  mbrncnt  mbrncnta  \n",
       "count  8345.000000     0.0      0.0       0.0  \n",
       "mean      1.195806     NaN      NaN       NaN  \n",
       "std       0.477697     NaN      NaN       NaN  \n",
       "min       1.000000     NaN      NaN       NaN  \n",
       "25%       1.000000     NaN      NaN       NaN  \n",
       "50%       1.000000     NaN      NaN       NaN  \n",
       "75%       1.000000     NaN      NaN       NaN  \n",
       "max       9.000000     NaN      NaN       NaN  \n",
       "\n",
       "[8 rows x 68 columns]"
      ]
     },
     "execution_count": 7,
     "metadata": {},
     "output_type": "execute_result"
    }
   ],
   "source": [
    "df.describe()"
   ]
  },
  {
   "cell_type": "markdown",
   "metadata": {},
   "source": [
    "These features are not interesting for this analysis because they are features about internal procedures of the survey:\n",
    "\n",
    "`cname`: Title of cumulative dataset\\\n",
    "`cedition`: Edition of cumulative dataset\\\n",
    "`cproddat`: Production date of cumulative dataset\\\n",
    "`cseqno`: Respondent's sequence number in cumulative dataset\\\n",
    "`name`: Title of dataset\\\n",
    "`essround`: ESS round\\\n",
    "`edition`: Edition\\\n",
    "`idno`: Respondent's identification number\\\n",
    "`dweight`: Design weight\\\n",
    "`pspwght`: Post-stratification weight including design weight\\\n",
    "`pweight`: Population size weight (must be combined with dweight or pspwght)"
   ]
  },
  {
   "cell_type": "code",
   "execution_count": 8,
   "metadata": {},
   "outputs": [],
   "source": [
    "df.drop(columns=['cname', 'cedition', 'cproddat', 'cseqno', 'name', 'essround', 'edition', 'idno',\n",
    "                'dweight', 'pspwght', 'pweight'], inplace=True)"
   ]
  },
  {
   "cell_type": "code",
   "execution_count": 9,
   "metadata": {},
   "outputs": [
    {
     "data": {
      "text/plain": [
       "Index(['cntry', 'happy', 'sclmeet', 'inmdisc', 'inprdsc', 'sclact', 'crmvct',\n",
       "       'aesfdrk', 'brghmwr', 'brghmef', 'crvctwr', 'crvctef', 'trrenyr',\n",
       "       'trrcnyr', 'trrprsn', 'trrtort', 'health', 'hlthhmp', 'rlgblg',\n",
       "       'rlgdnm', 'rlgblge', 'rlgdnme', 'rlgdgr', 'rlgatnd', 'pray', 'dscrgrp',\n",
       "       'dscrrce', 'dscrntn', 'dscrrlg', 'dscrlng', 'dscretn', 'dscrage',\n",
       "       'dscrgnd', 'dscrsex', 'dscrdsb', 'dscroth', 'dscrdk', 'dscrref',\n",
       "       'dscrnap', 'dscrna', 'ctzcntr', 'ctzship', 'ctzshipa', 'ctzshipb',\n",
       "       'ctzshipc', 'brncntr', 'cntbrth', 'cntbrtha', 'cntbrthb', 'cntbrthc',\n",
       "       'livecntr', 'livecnta', 'lnghoma', 'lnghom1', 'lnghomb', 'lnghom2',\n",
       "       'blgetmg', 'facntr', 'facntn', 'fbrncnt', 'fbrncnta', 'fbrncntb',\n",
       "       'mocntr', 'mocntn', 'mbrncnt', 'mbrncnta', 'mbrncntb'],\n",
       "      dtype='object')"
      ]
     },
     "execution_count": 9,
     "metadata": {},
     "output_type": "execute_result"
    }
   ],
   "source": [
    "df.columns"
   ]
  },
  {
   "cell_type": "markdown",
   "metadata": {},
   "source": [
    "**Find if there are missing values in the dataset by representing counting the amount of non-NaNs and representing them on a heatmap:**"
   ]
  },
  {
   "cell_type": "code",
   "execution_count": 10,
   "metadata": {},
   "outputs": [
    {
     "data": {
      "text/html": [
       "<div>\n",
       "<style scoped>\n",
       "    .dataframe tbody tr th:only-of-type {\n",
       "        vertical-align: middle;\n",
       "    }\n",
       "\n",
       "    .dataframe tbody tr th {\n",
       "        vertical-align: top;\n",
       "    }\n",
       "\n",
       "    .dataframe thead th {\n",
       "        text-align: right;\n",
       "    }\n",
       "</style>\n",
       "<table border=\"1\" class=\"dataframe\">\n",
       "  <thead>\n",
       "    <tr style=\"text-align: right;\">\n",
       "      <th></th>\n",
       "      <th>cntry</th>\n",
       "      <th>happy</th>\n",
       "      <th>sclmeet</th>\n",
       "      <th>inmdisc</th>\n",
       "      <th>inprdsc</th>\n",
       "      <th>sclact</th>\n",
       "      <th>crmvct</th>\n",
       "      <th>aesfdrk</th>\n",
       "      <th>brghmwr</th>\n",
       "      <th>brghmef</th>\n",
       "      <th>...</th>\n",
       "      <th>facntr</th>\n",
       "      <th>facntn</th>\n",
       "      <th>fbrncnt</th>\n",
       "      <th>fbrncnta</th>\n",
       "      <th>fbrncntb</th>\n",
       "      <th>mocntr</th>\n",
       "      <th>mocntn</th>\n",
       "      <th>mbrncnt</th>\n",
       "      <th>mbrncnta</th>\n",
       "      <th>mbrncntb</th>\n",
       "    </tr>\n",
       "  </thead>\n",
       "  <tbody>\n",
       "    <tr>\n",
       "      <th>0</th>\n",
       "      <td>8345</td>\n",
       "      <td>8345</td>\n",
       "      <td>8345</td>\n",
       "      <td>0</td>\n",
       "      <td>8345</td>\n",
       "      <td>8345</td>\n",
       "      <td>8345</td>\n",
       "      <td>8345</td>\n",
       "      <td>0</td>\n",
       "      <td>0</td>\n",
       "      <td>...</td>\n",
       "      <td>8345</td>\n",
       "      <td>0</td>\n",
       "      <td>0</td>\n",
       "      <td>0</td>\n",
       "      <td>8344</td>\n",
       "      <td>8345</td>\n",
       "      <td>0</td>\n",
       "      <td>0</td>\n",
       "      <td>0</td>\n",
       "      <td>8345</td>\n",
       "    </tr>\n",
       "  </tbody>\n",
       "</table>\n",
       "<p>1 rows × 67 columns</p>\n",
       "</div>"
      ],
      "text/plain": [
       "   cntry  happy  sclmeet  inmdisc  inprdsc  sclact  crmvct  aesfdrk  brghmwr  \\\n",
       "0   8345   8345     8345        0     8345    8345    8345     8345        0   \n",
       "\n",
       "   brghmef  ...  facntr  facntn  fbrncnt  fbrncnta  fbrncntb  mocntr  mocntn  \\\n",
       "0        0  ...    8345       0        0         0      8344    8345       0   \n",
       "\n",
       "   mbrncnt  mbrncnta  mbrncntb  \n",
       "0        0         0      8345  \n",
       "\n",
       "[1 rows x 67 columns]"
      ]
     },
     "execution_count": 10,
     "metadata": {},
     "output_type": "execute_result"
    }
   ],
   "source": [
    "# use count() to count non-NaNs\n",
    "# store the result in a new variable\n",
    "df_count = pd.DataFrame(df.count()).T\n",
    "df_count"
   ]
  },
  {
   "cell_type": "code",
   "execution_count": 11,
   "metadata": {},
   "outputs": [
    {
     "data": {
      "text/plain": [
       "8345"
      ]
     },
     "execution_count": 11,
     "metadata": {},
     "output_type": "execute_result"
    }
   ],
   "source": [
    "# maximum value of the data frame\n",
    "max(df_count.max()) "
   ]
  },
  {
   "cell_type": "code",
   "execution_count": 12,
   "metadata": {},
   "outputs": [],
   "source": [
    "# to generate a heatmap with the number of non-NaNs, divide the number with the maximun value\n",
    "df_heat_map = df_count/max(df_count.max()) "
   ]
  },
  {
   "cell_type": "code",
   "execution_count": 13,
   "metadata": {},
   "outputs": [
    {
     "data": {
      "image/png": "[encoded data removed]",
      "text/plain": [
       "<Figure size 2880x720 with 2 Axes>"
      ]
     },
     "metadata": {},
     "output_type": "display_data"
    }
   ],
   "source": [
    "# heatmap \n",
    "# Value 1: no Nans\n",
    "# Value 0: Nans\n",
    "sns.set(font_scale=1.8) \n",
    "fig1, ax1 = plt.subplots(figsize=(40,10))\n",
    "sns.heatmap(df_heat_map, vmin=0, vmax=1, ax=ax1, yticklabels=False) #xticklabels=False\n",
    "fig1.savefig('Heatmaps_NANs');"
   ]
  },
  {
   "cell_type": "markdown",
   "metadata": {},
   "source": [
    "There are columns that only contain NaNs."
   ]
  },
  {
   "cell_type": "markdown",
   "metadata": {},
   "source": [
    "**Drop all the columns that only contain NaNs:**"
   ]
  },
  {
   "cell_type": "code",
   "execution_count": 14,
   "metadata": {},
   "outputs": [],
   "source": [
    "df.dropna(axis=1, how='all', inplace=True)"
   ]
  },
  {
   "cell_type": "code",
   "execution_count": 15,
   "metadata": {},
   "outputs": [
    {
     "data": {
      "text/plain": [
       "Index(['cntry', 'happy', 'sclmeet', 'inprdsc', 'sclact', 'crmvct', 'aesfdrk',\n",
       "       'health', 'hlthhmp', 'rlgblg', 'rlgdnm', 'rlgblge', 'rlgdnme', 'rlgdgr',\n",
       "       'rlgatnd', 'pray', 'dscrgrp', 'dscrrce', 'dscrntn', 'dscrrlg',\n",
       "       'dscrlng', 'dscretn', 'dscrage', 'dscrgnd', 'dscrsex', 'dscrdsb',\n",
       "       'dscroth', 'dscrdk', 'dscrref', 'dscrnap', 'dscrna', 'ctzcntr',\n",
       "       'ctzshipc', 'brncntr', 'cntbrthc', 'livecnta', 'lnghom1', 'lnghom2',\n",
       "       'blgetmg', 'facntr', 'fbrncntb', 'mocntr', 'mbrncntb'],\n",
       "      dtype='object')"
      ]
     },
     "execution_count": 15,
     "metadata": {},
     "output_type": "execute_result"
    }
   ],
   "source": [
    "df.columns"
   ]
  },
  {
   "cell_type": "code",
   "execution_count": 16,
   "metadata": {},
   "outputs": [
    {
     "data": {
      "text/plain": [
       "(8345, 43)"
      ]
     },
     "execution_count": 16,
     "metadata": {},
     "output_type": "execute_result"
    }
   ],
   "source": [
    "df.shape"
   ]
  },
  {
   "cell_type": "markdown",
   "metadata": {},
   "source": [
    "**How happy are you?:** investigate the answers to this question in the countries selected for this study.\n",
    "\n",
    "According to the information provided by the survey the feature `happy` provides numbers where people rate their hapiness level. These are integers but function like categories."
   ]
  },
  {
   "cell_type": "code",
   "execution_count": 17,
   "metadata": {},
   "outputs": [
    {
     "data": {
      "text/plain": [
       "dtype('int64')"
      ]
     },
     "execution_count": 17,
     "metadata": {},
     "output_type": "execute_result"
    }
   ],
   "source": [
    "# explore the dtype\n",
    "df['happy'].dtypes"
   ]
  },
  {
   "cell_type": "code",
   "execution_count": 18,
   "metadata": {},
   "outputs": [
    {
     "data": {
      "text/plain": [
       "8     31.072499\n",
       "9     21.234272\n",
       "7     16.704614\n",
       "10    13.684841\n",
       "6      6.794488\n",
       "5      5.751947\n",
       "4      1.881366\n",
       "3      1.414020\n",
       "2      0.707010\n",
       "0      0.311564\n",
       "1      0.215698\n",
       "88     0.119832\n",
       "77     0.107849\n",
       "Name: happy, dtype: float64"
      ]
     },
     "execution_count": 18,
     "metadata": {},
     "output_type": "execute_result"
    }
   ],
   "source": [
    "# obtain the percentages of answers for each level of happiness\n",
    "df['happy'].value_counts(normalize=True, sort=True)*100"
   ]
  },
  {
   "cell_type": "code",
   "execution_count": 19,
   "metadata": {},
   "outputs": [],
   "source": [
    "# group the percentages of answers for each level of happiness by country\n",
    "df_grouped_happy = (df.groupby('cntry')['happy'].value_counts(normalize=True)*100).unstack()"
   ]
  },
  {
   "cell_type": "code",
   "execution_count": 20,
   "metadata": {},
   "outputs": [
    {
     "data": {
      "text/html": [
       "<div>\n",
       "<style scoped>\n",
       "    .dataframe tbody tr th:only-of-type {\n",
       "        vertical-align: middle;\n",
       "    }\n",
       "\n",
       "    .dataframe tbody tr th {\n",
       "        vertical-align: top;\n",
       "    }\n",
       "\n",
       "    .dataframe thead th {\n",
       "        text-align: right;\n",
       "    }\n",
       "</style>\n",
       "<table border=\"1\" class=\"dataframe\">\n",
       "  <thead>\n",
       "    <tr style=\"text-align: right;\">\n",
       "      <th>happy</th>\n",
       "      <th>0</th>\n",
       "      <th>1</th>\n",
       "      <th>2</th>\n",
       "      <th>3</th>\n",
       "      <th>4</th>\n",
       "      <th>5</th>\n",
       "      <th>6</th>\n",
       "      <th>7</th>\n",
       "      <th>8</th>\n",
       "      <th>9</th>\n",
       "      <th>10</th>\n",
       "      <th>77</th>\n",
       "      <th>88</th>\n",
       "    </tr>\n",
       "    <tr>\n",
       "      <th>cntry</th>\n",
       "      <th></th>\n",
       "      <th></th>\n",
       "      <th></th>\n",
       "      <th></th>\n",
       "      <th></th>\n",
       "      <th></th>\n",
       "      <th></th>\n",
       "      <th></th>\n",
       "      <th></th>\n",
       "      <th></th>\n",
       "      <th></th>\n",
       "      <th></th>\n",
       "      <th></th>\n",
       "    </tr>\n",
       "  </thead>\n",
       "  <tbody>\n",
       "    <tr>\n",
       "      <th>AT</th>\n",
       "      <td>0.497512</td>\n",
       "      <td>0.049751</td>\n",
       "      <td>0.895522</td>\n",
       "      <td>1.890547</td>\n",
       "      <td>2.487562</td>\n",
       "      <td>7.064677</td>\n",
       "      <td>9.800995</td>\n",
       "      <td>18.507463</td>\n",
       "      <td>26.915423</td>\n",
       "      <td>19.104478</td>\n",
       "      <td>12.338308</td>\n",
       "      <td>0.248756</td>\n",
       "      <td>0.199005</td>\n",
       "    </tr>\n",
       "    <tr>\n",
       "      <th>CH</th>\n",
       "      <td>0.065574</td>\n",
       "      <td>0.131148</td>\n",
       "      <td>0.393443</td>\n",
       "      <td>0.918033</td>\n",
       "      <td>0.983607</td>\n",
       "      <td>3.475410</td>\n",
       "      <td>3.868852</td>\n",
       "      <td>13.836066</td>\n",
       "      <td>31.213115</td>\n",
       "      <td>27.409836</td>\n",
       "      <td>17.573770</td>\n",
       "      <td>0.065574</td>\n",
       "      <td>0.065574</td>\n",
       "    </tr>\n",
       "    <tr>\n",
       "      <th>DE</th>\n",
       "      <td>0.350631</td>\n",
       "      <td>0.420757</td>\n",
       "      <td>0.771388</td>\n",
       "      <td>1.647966</td>\n",
       "      <td>2.033661</td>\n",
       "      <td>5.960729</td>\n",
       "      <td>5.329593</td>\n",
       "      <td>15.497896</td>\n",
       "      <td>33.590463</td>\n",
       "      <td>22.124825</td>\n",
       "      <td>12.166900</td>\n",
       "      <td>0.070126</td>\n",
       "      <td>0.035063</td>\n",
       "    </tr>\n",
       "    <tr>\n",
       "      <th>ES</th>\n",
       "      <td>0.255363</td>\n",
       "      <td>0.153218</td>\n",
       "      <td>0.663943</td>\n",
       "      <td>0.970378</td>\n",
       "      <td>1.736466</td>\n",
       "      <td>5.873340</td>\n",
       "      <td>8.120531</td>\n",
       "      <td>18.845761</td>\n",
       "      <td>31.562819</td>\n",
       "      <td>17.313585</td>\n",
       "      <td>14.249234</td>\n",
       "      <td>0.051073</td>\n",
       "      <td>0.204290</td>\n",
       "    </tr>\n",
       "  </tbody>\n",
       "</table>\n",
       "</div>"
      ],
      "text/plain": [
       "happy        0         1         2         3         4         5         6   \\\n",
       "cntry                                                                         \n",
       "AT     0.497512  0.049751  0.895522  1.890547  2.487562  7.064677  9.800995   \n",
       "CH     0.065574  0.131148  0.393443  0.918033  0.983607  3.475410  3.868852   \n",
       "DE     0.350631  0.420757  0.771388  1.647966  2.033661  5.960729  5.329593   \n",
       "ES     0.255363  0.153218  0.663943  0.970378  1.736466  5.873340  8.120531   \n",
       "\n",
       "happy         7          8          9          10        77        88  \n",
       "cntry                                                                  \n",
       "AT     18.507463  26.915423  19.104478  12.338308  0.248756  0.199005  \n",
       "CH     13.836066  31.213115  27.409836  17.573770  0.065574  0.065574  \n",
       "DE     15.497896  33.590463  22.124825  12.166900  0.070126  0.035063  \n",
       "ES     18.845761  31.562819  17.313585  14.249234  0.051073  0.204290  "
      ]
     },
     "execution_count": 20,
     "metadata": {},
     "output_type": "execute_result"
    }
   ],
   "source": [
    "df_grouped_happy"
   ]
  },
  {
   "cell_type": "markdown",
   "metadata": {},
   "source": [
    "**Exclude the refusal and don't know answers from the graph:** to simplify the graph those responses were excluded because they account for less than 1% of the records."
   ]
  },
  {
   "cell_type": "code",
   "execution_count": 21,
   "metadata": {},
   "outputs": [],
   "source": [
    "df_grouped_happy.drop(columns=[77,88], inplace=True)"
   ]
  },
  {
   "cell_type": "code",
   "execution_count": 22,
   "metadata": {},
   "outputs": [
    {
     "data": {
      "image/png": "[encoded data removed]",
      "text/plain": [
       "<Figure size 720x360 with 1 Axes>"
      ]
     },
     "metadata": {},
     "output_type": "display_data"
    }
   ],
   "source": [
    "# plot the percentages of answers for each level of happiness by country in a stacked bar plot\n",
    "\n",
    "colors = sns.color_palette('hls', 12)\n",
    "legend_label = ['0 :( unhappy', '1', '2', '3', '4' ,'5', '6', '7', '8', '9', '10 (: happy']\n",
    "ax2 = df_grouped_happy.plot(kind='bar', stacked=True, figsize=(10, 5), color=colors)\n",
    "ax2.set_xlabel('Country')\n",
    "ax2.set_ylabel('Percentage of people')\n",
    "ax2.set_title('How happy are you?')\n",
    "ax2.legend(loc='center right', bbox_to_anchor=(1.1,0.5), bbox_transform=plt.gcf().transFigure, \n",
    "          prop={'size': 12}, labels=legend_label);"
   ]
  },
  {
   "cell_type": "markdown",
   "metadata": {},
   "source": [
    "To obtain maps showing the percentages of the most happy and most unhappy people I will use the library `plotly`. These maps will be generated as html files that will open automatically in a browser."
   ]
  },
  {
   "cell_type": "code",
   "execution_count": 23,
   "metadata": {},
   "outputs": [
    {
     "data": {
      "text/html": [
       "        <script type=\"text/javascript\">\n",
       "        window.PlotlyConfig = {MathJaxConfig: 'local'};\n",
       "        if (window.MathJax) {MathJax.Hub.Config({SVG: {font: \"STIX-Web\"}});}\n",
       "        if (typeof require !== 'undefined') {\n",
       "        require.undef(\"plotly\");\n",
       "        requirejs.config({\n",
       "            paths: {\n",
       "                'plotly': ['https://cdn.plot.ly/plotly-latest.min']\n",
       "            }\n",
       "        });\n",
       "        require(['plotly'], function(Plotly) {\n",
       "            window._Plotly = Plotly;\n",
       "        });\n",
       "        }\n",
       "        </script>\n",
       "        "
      ]
     },
     "metadata": {},
     "output_type": "display_data"
    }
   ],
   "source": [
    "import plotly as py\n",
    "import plotly.graph_objs as go\n",
    "\n",
    "py.offline.init_notebook_mode(connected=True)"
   ]
  },
  {
   "cell_type": "markdown",
   "metadata": {},
   "source": [
    "To be able to map the countries with `plotly`, the country code should be the country name or the 3-letter country code. `plotly` does not recognize the 2-letter country code ISO 3166-1 alpha-2 (https://en.wikipedia.org/wiki/ISO_3166-1_alpha-2) so it is necessary to change this to obtain the maps."
   ]
  },
  {
   "cell_type": "code",
   "execution_count": 24,
   "metadata": {},
   "outputs": [],
   "source": [
    "# reset the index to prepare the dataframe for plotting\n",
    "df_grouped_happy.reset_index(inplace=True)"
   ]
  },
  {
   "cell_type": "code",
   "execution_count": 25,
   "metadata": {},
   "outputs": [
    {
     "data": {
      "text/plain": [
       "0    AT\n",
       "1    CH\n",
       "2    DE\n",
       "3    ES\n",
       "Name: cntry, dtype: object"
      ]
     },
     "execution_count": 25,
     "metadata": {},
     "output_type": "execute_result"
    }
   ],
   "source": [
    "df_grouped_happy['cntry']"
   ]
  },
  {
   "cell_type": "code",
   "execution_count": 26,
   "metadata": {},
   "outputs": [],
   "source": [
    "# change the country codes to country names to use maps generated by plotly \n",
    "dict_countries = {'AT': 'Austria','CH':'Switzerland','DE':'Germany', 'ES':'Spain'}\n",
    "df_grouped_happy['cntry'] = df_grouped_happy['cntry'].map(dict_countries)"
   ]
  },
  {
   "cell_type": "code",
   "execution_count": 27,
   "metadata": {},
   "outputs": [
    {
     "data": {
      "text/html": [
       "<div>\n",
       "<style scoped>\n",
       "    .dataframe tbody tr th:only-of-type {\n",
       "        vertical-align: middle;\n",
       "    }\n",
       "\n",
       "    .dataframe tbody tr th {\n",
       "        vertical-align: top;\n",
       "    }\n",
       "\n",
       "    .dataframe thead th {\n",
       "        text-align: right;\n",
       "    }\n",
       "</style>\n",
       "<table border=\"1\" class=\"dataframe\">\n",
       "  <thead>\n",
       "    <tr style=\"text-align: right;\">\n",
       "      <th>happy</th>\n",
       "      <th>cntry</th>\n",
       "      <th>0</th>\n",
       "      <th>1</th>\n",
       "      <th>2</th>\n",
       "      <th>3</th>\n",
       "      <th>4</th>\n",
       "      <th>5</th>\n",
       "      <th>6</th>\n",
       "      <th>7</th>\n",
       "      <th>8</th>\n",
       "      <th>9</th>\n",
       "      <th>10</th>\n",
       "    </tr>\n",
       "  </thead>\n",
       "  <tbody>\n",
       "    <tr>\n",
       "      <th>0</th>\n",
       "      <td>Austria</td>\n",
       "      <td>0.497512</td>\n",
       "      <td>0.049751</td>\n",
       "      <td>0.895522</td>\n",
       "      <td>1.890547</td>\n",
       "      <td>2.487562</td>\n",
       "      <td>7.064677</td>\n",
       "      <td>9.800995</td>\n",
       "      <td>18.507463</td>\n",
       "      <td>26.915423</td>\n",
       "      <td>19.104478</td>\n",
       "      <td>12.338308</td>\n",
       "    </tr>\n",
       "    <tr>\n",
       "      <th>1</th>\n",
       "      <td>Switzerland</td>\n",
       "      <td>0.065574</td>\n",
       "      <td>0.131148</td>\n",
       "      <td>0.393443</td>\n",
       "      <td>0.918033</td>\n",
       "      <td>0.983607</td>\n",
       "      <td>3.475410</td>\n",
       "      <td>3.868852</td>\n",
       "      <td>13.836066</td>\n",
       "      <td>31.213115</td>\n",
       "      <td>27.409836</td>\n",
       "      <td>17.573770</td>\n",
       "    </tr>\n",
       "    <tr>\n",
       "      <th>2</th>\n",
       "      <td>Germany</td>\n",
       "      <td>0.350631</td>\n",
       "      <td>0.420757</td>\n",
       "      <td>0.771388</td>\n",
       "      <td>1.647966</td>\n",
       "      <td>2.033661</td>\n",
       "      <td>5.960729</td>\n",
       "      <td>5.329593</td>\n",
       "      <td>15.497896</td>\n",
       "      <td>33.590463</td>\n",
       "      <td>22.124825</td>\n",
       "      <td>12.166900</td>\n",
       "    </tr>\n",
       "    <tr>\n",
       "      <th>3</th>\n",
       "      <td>Spain</td>\n",
       "      <td>0.255363</td>\n",
       "      <td>0.153218</td>\n",
       "      <td>0.663943</td>\n",
       "      <td>0.970378</td>\n",
       "      <td>1.736466</td>\n",
       "      <td>5.873340</td>\n",
       "      <td>8.120531</td>\n",
       "      <td>18.845761</td>\n",
       "      <td>31.562819</td>\n",
       "      <td>17.313585</td>\n",
       "      <td>14.249234</td>\n",
       "    </tr>\n",
       "  </tbody>\n",
       "</table>\n",
       "</div>"
      ],
      "text/plain": [
       "happy        cntry         0         1         2         3         4  \\\n",
       "0          Austria  0.497512  0.049751  0.895522  1.890547  2.487562   \n",
       "1      Switzerland  0.065574  0.131148  0.393443  0.918033  0.983607   \n",
       "2          Germany  0.350631  0.420757  0.771388  1.647966  2.033661   \n",
       "3            Spain  0.255363  0.153218  0.663943  0.970378  1.736466   \n",
       "\n",
       "happy         5         6          7          8          9         10  \n",
       "0      7.064677  9.800995  18.507463  26.915423  19.104478  12.338308  \n",
       "1      3.475410  3.868852  13.836066  31.213115  27.409836  17.573770  \n",
       "2      5.960729  5.329593  15.497896  33.590463  22.124825  12.166900  \n",
       "3      5.873340  8.120531  18.845761  31.562819  17.313585  14.249234  "
      ]
     },
     "execution_count": 27,
     "metadata": {},
     "output_type": "execute_result"
    }
   ],
   "source": [
    "df_grouped_happy"
   ]
  },
  {
   "cell_type": "markdown",
   "metadata": {},
   "source": [
    "**Map of the percentages of super happy people in each country:**\n",
    "\n",
    "Once the cells are run , the interactive maps will appear in a browser."
   ]
  },
  {
   "cell_type": "code",
   "execution_count": 28,
   "metadata": {},
   "outputs": [],
   "source": [
    "fig3 = go.Figure(data=go.Choropleth(\n",
    "    locations=df_grouped_happy['cntry'],    #df_grouped_happy['cntry'], # Spatial coordinates\n",
    "    z = df_grouped_happy[10], # Data to be color-coded\n",
    "    locationmode = 'country names', # set of locations match entries in `locations`\n",
    "    colorscale = 'Reds',\n",
    "    #autocolorscale=False,\n",
    "    colorbar_title = 'Proportion of Super Happy People',\n",
    "))\n",
    "\n",
    "fig3.update_layout(\n",
    "    title_text = 'How happy are you?',\n",
    "    geo_scope='europe', # limite map scope to Europe\n",
    ")\n",
    "\n",
    "fig3.show(renderer = 'browser')"
   ]
  },
  {
   "cell_type": "code",
   "execution_count": 29,
   "metadata": {},
   "outputs": [],
   "source": [
    "fig4 = go.Figure(data=go.Choropleth(\n",
    "    locations=df_grouped_happy['cntry'],    #df_grouped_happy['cntry'], # Spatial coordinates\n",
    "    z = df_grouped_happy[1], # Data to be color-coded\n",
    "    locationmode = 'country names', # set of locations match entries in `locations`\n",
    "    colorscale = 'Bupu',\n",
    "    autocolorscale=False,\n",
    "    colorbar_title = 'Proportion of Super Unhappy People',\n",
    "))\n",
    "\n",
    "fig4.update_layout(\n",
    "    title_text = 'How unhappy are you?',\n",
    "    geo_scope='europe', # limite map scope to Europe\n",
    ")\n",
    "\n",
    "fig4.show(renderer = 'browser')"
   ]
  },
  {
   "cell_type": "markdown",
   "metadata": {},
   "source": [
    "**How often socially meet with friends, relatives or colleagues?:** investigate the answers to this question in the countries selected for this study.\n",
    "\n",
    "According to the information provided by the survey the feature `sclmeet` provides numbers where people rate how often they meet socially with friends, relatives or work colleagues. These are integers but function like categories."
   ]
  },
  {
   "cell_type": "code",
   "execution_count": 30,
   "metadata": {},
   "outputs": [
    {
     "data": {
      "text/plain": [
       "dtype('int64')"
      ]
     },
     "execution_count": 30,
     "metadata": {},
     "output_type": "execute_result"
    }
   ],
   "source": [
    "# explore dtypes\n",
    "df['sclmeet'].dtypes"
   ]
  },
  {
   "cell_type": "code",
   "execution_count": 31,
   "metadata": {},
   "outputs": [
    {
     "data": {
      "text/plain": [
       "6     31.815458\n",
       "4     21.737567\n",
       "5     20.539245\n",
       "7     12.342720\n",
       "3      7.956860\n",
       "2      4.481726\n",
       "1      0.982624\n",
       "77     0.071899\n",
       "88     0.047933\n",
       "99     0.023966\n",
       "Name: sclmeet, dtype: float64"
      ]
     },
     "execution_count": 31,
     "metadata": {},
     "output_type": "execute_result"
    }
   ],
   "source": [
    "# obtain the percentages of answers for each level of happiness\n",
    "df['sclmeet'].value_counts(normalize=True, sort=True)*100"
   ]
  },
  {
   "cell_type": "code",
   "execution_count": 32,
   "metadata": {},
   "outputs": [],
   "source": [
    "# group the percentages of answers for each level of happiness by country\n",
    "df_grouped_sclmeet = (df.groupby('cntry')['sclmeet'].value_counts(normalize=True)*100).unstack()"
   ]
  },
  {
   "cell_type": "code",
   "execution_count": 33,
   "metadata": {},
   "outputs": [
    {
     "data": {
      "text/html": [
       "<div>\n",
       "<style scoped>\n",
       "    .dataframe tbody tr th:only-of-type {\n",
       "        vertical-align: middle;\n",
       "    }\n",
       "\n",
       "    .dataframe tbody tr th {\n",
       "        vertical-align: top;\n",
       "    }\n",
       "\n",
       "    .dataframe thead th {\n",
       "        text-align: right;\n",
       "    }\n",
       "</style>\n",
       "<table border=\"1\" class=\"dataframe\">\n",
       "  <thead>\n",
       "    <tr style=\"text-align: right;\">\n",
       "      <th>sclmeet</th>\n",
       "      <th>1</th>\n",
       "      <th>2</th>\n",
       "      <th>3</th>\n",
       "      <th>4</th>\n",
       "      <th>5</th>\n",
       "      <th>6</th>\n",
       "      <th>7</th>\n",
       "      <th>77</th>\n",
       "      <th>88</th>\n",
       "      <th>99</th>\n",
       "    </tr>\n",
       "    <tr>\n",
       "      <th>cntry</th>\n",
       "      <th></th>\n",
       "      <th></th>\n",
       "      <th></th>\n",
       "      <th></th>\n",
       "      <th></th>\n",
       "      <th></th>\n",
       "      <th></th>\n",
       "      <th></th>\n",
       "      <th></th>\n",
       "      <th></th>\n",
       "    </tr>\n",
       "  </thead>\n",
       "  <tbody>\n",
       "    <tr>\n",
       "      <th>AT</th>\n",
       "      <td>1.243781</td>\n",
       "      <td>3.333333</td>\n",
       "      <td>8.109453</td>\n",
       "      <td>25.422886</td>\n",
       "      <td>22.537313</td>\n",
       "      <td>33.134328</td>\n",
       "      <td>6.069652</td>\n",
       "      <td>0.099502</td>\n",
       "      <td>0.049751</td>\n",
       "      <td>NaN</td>\n",
       "    </tr>\n",
       "    <tr>\n",
       "      <th>CH</th>\n",
       "      <td>0.459016</td>\n",
       "      <td>3.540984</td>\n",
       "      <td>8.065574</td>\n",
       "      <td>16.000000</td>\n",
       "      <td>22.360656</td>\n",
       "      <td>36.721311</td>\n",
       "      <td>12.786885</td>\n",
       "      <td>NaN</td>\n",
       "      <td>0.065574</td>\n",
       "      <td>NaN</td>\n",
       "    </tr>\n",
       "    <tr>\n",
       "      <th>DE</th>\n",
       "      <td>0.806452</td>\n",
       "      <td>5.504909</td>\n",
       "      <td>9.396914</td>\n",
       "      <td>25.070126</td>\n",
       "      <td>18.548387</td>\n",
       "      <td>30.329593</td>\n",
       "      <td>10.273492</td>\n",
       "      <td>0.070126</td>\n",
       "      <td>NaN</td>\n",
       "      <td>NaN</td>\n",
       "    </tr>\n",
       "    <tr>\n",
       "      <th>ES</th>\n",
       "      <td>1.378958</td>\n",
       "      <td>4.902962</td>\n",
       "      <td>5.617978</td>\n",
       "      <td>17.568948</td>\n",
       "      <td>19.969356</td>\n",
       "      <td>28.804903</td>\n",
       "      <td>21.450460</td>\n",
       "      <td>0.102145</td>\n",
       "      <td>0.102145</td>\n",
       "      <td>0.102145</td>\n",
       "    </tr>\n",
       "  </tbody>\n",
       "</table>\n",
       "</div>"
      ],
      "text/plain": [
       "sclmeet        1         2         3          4          5          6   \\\n",
       "cntry                                                                    \n",
       "AT       1.243781  3.333333  8.109453  25.422886  22.537313  33.134328   \n",
       "CH       0.459016  3.540984  8.065574  16.000000  22.360656  36.721311   \n",
       "DE       0.806452  5.504909  9.396914  25.070126  18.548387  30.329593   \n",
       "ES       1.378958  4.902962  5.617978  17.568948  19.969356  28.804903   \n",
       "\n",
       "sclmeet         7         77        88        99  \n",
       "cntry                                             \n",
       "AT        6.069652  0.099502  0.049751       NaN  \n",
       "CH       12.786885       NaN  0.065574       NaN  \n",
       "DE       10.273492  0.070126       NaN       NaN  \n",
       "ES       21.450460  0.102145  0.102145  0.102145  "
      ]
     },
     "execution_count": 33,
     "metadata": {},
     "output_type": "execute_result"
    }
   ],
   "source": [
    "df_grouped_sclmeet"
   ]
  },
  {
   "cell_type": "markdown",
   "metadata": {},
   "source": [
    "**Exclude the refusal, don't know and no answers from the graph:** To simplify the graph those responses were excluded because they account for less than 1% of the records."
   ]
  },
  {
   "cell_type": "code",
   "execution_count": 34,
   "metadata": {},
   "outputs": [],
   "source": [
    "df_grouped_sclmeet.drop(columns=[77,88,99], inplace=True)"
   ]
  },
  {
   "cell_type": "code",
   "execution_count": 35,
   "metadata": {},
   "outputs": [
    {
     "data": {
      "image/png": "[encoded data removed]",
      "text/plain": [
       "<Figure size 720x360 with 1 Axes>"
      ]
     },
     "metadata": {},
     "output_type": "display_data"
    }
   ],
   "source": [
    "# plot the percentages of answers for each level by country in a stacked bar plot\n",
    "\n",
    "colors = sns.color_palette('hls', 7)\n",
    "legend_label = ['1: never', '2', '3', '4' ,'5', '6', '7: every day']\n",
    "ax2 = df_grouped_sclmeet.plot(kind='bar', stacked=True, figsize=(10, 5), color=colors)\n",
    "ax2.set_xlabel('Country')\n",
    "ax2.set_ylabel('Percentage of people')\n",
    "ax2.set_title('How often do you meet?')\n",
    "ax2.legend(loc='center right', bbox_to_anchor=(1.1,0.5), bbox_transform=plt.gcf().transFigure, \n",
    "          prop={'size': 12}, labels=legend_label);"
   ]
  },
  {
   "cell_type": "markdown",
   "metadata": {},
   "source": [
    "**Write a function to obtain the stacked bar graphs for the rest of the features:** many features in this dataset are similar to the ones that we already explored and it is useful to visualize them with stacked bar plots. "
   ]
  },
  {
   "cell_type": "code",
   "execution_count": 36,
   "metadata": {},
   "outputs": [],
   "source": [
    "def stack_bar_graph(feature, graph_title, number_of_colors):\n",
    "    '''\n",
    "    feature: name of the feature present in the dataframe i.e. 'happy'\n",
    "    \n",
    "    graph_title: title of the stack bar graph i.e. 'How happy are you?'\n",
    "    \n",
    "    number_of_colors (int): number of colors to be present in the color palette\n",
    "    \n",
    "    The function does not plot the refusal, don't know and no answers.\n",
    "    '''\n",
    "    # generate the dataframe\n",
    "    df_grouped = (df.groupby('cntry')[feature].value_counts(normalize=True)*100).unstack()\n",
    "    \n",
    "    columns_to_eliminate = ['77', '88', '99']\n",
    "    df_stack = df_grouped.drop(columns=[col for col in df_grouped if col in columns_to_eliminate])\n",
    "    \n",
    "    # generate the graph\n",
    "    colors = sns.color_palette('hls', number_of_colors)\n",
    "    legend_label = df_stack.columns\n",
    "    ax2 = df_stack.plot(kind='bar', stacked=True, figsize=(10, 5), color=colors)\n",
    "    ax2.set_xlabel('Country')\n",
    "    ax2.set_ylabel('Percentage of people')\n",
    "    ax2.set_title(graph_title)\n",
    "    ax2.legend(loc='center right', bbox_to_anchor=(1.1,0.5), bbox_transform=plt.gcf().transFigure, \n",
    "               prop={'size': 12}, labels=legend_label);\n",
    "    return ax2"
   ]
  },
  {
   "cell_type": "code",
   "execution_count": 37,
   "metadata": {},
   "outputs": [
    {
     "data": {
      "image/png": "[encoded data removed]",
      "text/plain": [
       "<Figure size 720x360 with 1 Axes>"
      ]
     },
     "metadata": {},
     "output_type": "display_data"
    }
   ],
   "source": [
    "stack_bar_graph('sclmeet', 'How oftnd do you meet?', 7);"
   ]
  },
  {
   "cell_type": "markdown",
   "metadata": {},
   "source": [
    "**Subjective general health:** _How is your health in general? Would you say it is..._ investigate the answers to this question in the countries selected for this study.\n",
    "\n",
    "**1**: very good\\\n",
    "**5**: very bad\\\n",
    "**7**: refusal\\\n",
    "**8**: don't know\\\n",
    "**9**: no answer"
   ]
  },
  {
   "cell_type": "code",
   "execution_count": 38,
   "metadata": {},
   "outputs": [
    {
     "data": {
      "image/png": "[encoded data removed]",
      "text/plain": [
       "<Figure size 720x360 with 1 Axes>"
      ]
     },
     "metadata": {},
     "output_type": "display_data"
    }
   ],
   "source": [
    "stack_bar_graph('health', 'How is your health in general?', 9);"
   ]
  },
  {
   "cell_type": "markdown",
   "metadata": {},
   "source": [
    "**Do you consider yourself as belonging to any particular religion or denomination?:** investigate the answers to this question in the countries selected for this study. In this case, the answers are `yes` or `no` and the results can be shown in a grouped bar plot instead of a stacked bar plot.\n",
    "\n",
    "**1**: `yes`\\\n",
    "**2**: `no`"
   ]
  },
  {
   "cell_type": "code",
   "execution_count": 39,
   "metadata": {},
   "outputs": [
    {
     "data": {
      "text/plain": [
       "1    63.103655\n",
       "2    36.536848\n",
       "7     0.203715\n",
       "8     0.155782\n",
       "Name: rlgblg, dtype: float64"
      ]
     },
     "execution_count": 39,
     "metadata": {},
     "output_type": "execute_result"
    }
   ],
   "source": [
    "# obtain the percentages of answers for yes or no\n",
    "df['rlgblg'].value_counts(normalize=True)*100"
   ]
  },
  {
   "cell_type": "code",
   "execution_count": 40,
   "metadata": {},
   "outputs": [],
   "source": [
    "# group the percentages of answers for each level of happiness by country\n",
    "df_grouped_religion = (df.groupby('cntry')['rlgblg'].value_counts(normalize=True)*100).unstack()"
   ]
  },
  {
   "cell_type": "code",
   "execution_count": 41,
   "metadata": {},
   "outputs": [
    {
     "data": {
      "text/html": [
       "<div>\n",
       "<style scoped>\n",
       "    .dataframe tbody tr th:only-of-type {\n",
       "        vertical-align: middle;\n",
       "    }\n",
       "\n",
       "    .dataframe tbody tr th {\n",
       "        vertical-align: top;\n",
       "    }\n",
       "\n",
       "    .dataframe thead th {\n",
       "        text-align: right;\n",
       "    }\n",
       "</style>\n",
       "<table border=\"1\" class=\"dataframe\">\n",
       "  <thead>\n",
       "    <tr style=\"text-align: right;\">\n",
       "      <th>rlgblg</th>\n",
       "      <th>1</th>\n",
       "      <th>2</th>\n",
       "      <th>7</th>\n",
       "      <th>8</th>\n",
       "    </tr>\n",
       "    <tr>\n",
       "      <th>cntry</th>\n",
       "      <th></th>\n",
       "      <th></th>\n",
       "      <th></th>\n",
       "      <th></th>\n",
       "    </tr>\n",
       "  </thead>\n",
       "  <tbody>\n",
       "    <tr>\n",
       "      <th>AT</th>\n",
       "      <td>72.686567</td>\n",
       "      <td>26.716418</td>\n",
       "      <td>0.497512</td>\n",
       "      <td>0.099502</td>\n",
       "    </tr>\n",
       "    <tr>\n",
       "      <th>CH</th>\n",
       "      <td>61.245902</td>\n",
       "      <td>38.426230</td>\n",
       "      <td>0.196721</td>\n",
       "      <td>0.131148</td>\n",
       "    </tr>\n",
       "    <tr>\n",
       "      <th>DE</th>\n",
       "      <td>54.698457</td>\n",
       "      <td>45.196353</td>\n",
       "      <td>NaN</td>\n",
       "      <td>0.105189</td>\n",
       "    </tr>\n",
       "    <tr>\n",
       "      <th>ES</th>\n",
       "      <td>66.956078</td>\n",
       "      <td>32.533197</td>\n",
       "      <td>0.204290</td>\n",
       "      <td>0.306435</td>\n",
       "    </tr>\n",
       "  </tbody>\n",
       "</table>\n",
       "</div>"
      ],
      "text/plain": [
       "rlgblg          1          2         7         8\n",
       "cntry                                           \n",
       "AT      72.686567  26.716418  0.497512  0.099502\n",
       "CH      61.245902  38.426230  0.196721  0.131148\n",
       "DE      54.698457  45.196353       NaN  0.105189\n",
       "ES      66.956078  32.533197  0.204290  0.306435"
      ]
     },
     "execution_count": 41,
     "metadata": {},
     "output_type": "execute_result"
    }
   ],
   "source": [
    "df_grouped_religion"
   ]
  },
  {
   "cell_type": "markdown",
   "metadata": {},
   "source": [
    "**Exclude the don't know and no answers from the graph:** To simplify the graph those responses were excluded because they account for less than 1% of the records."
   ]
  },
  {
   "cell_type": "code",
   "execution_count": 42,
   "metadata": {},
   "outputs": [],
   "source": [
    "df_grouped_religion.drop(columns=[7, 8], inplace=True)"
   ]
  },
  {
   "cell_type": "code",
   "execution_count": 43,
   "metadata": {},
   "outputs": [
    {
     "data": {
      "text/html": [
       "<div>\n",
       "<style scoped>\n",
       "    .dataframe tbody tr th:only-of-type {\n",
       "        vertical-align: middle;\n",
       "    }\n",
       "\n",
       "    .dataframe tbody tr th {\n",
       "        vertical-align: top;\n",
       "    }\n",
       "\n",
       "    .dataframe thead th {\n",
       "        text-align: right;\n",
       "    }\n",
       "</style>\n",
       "<table border=\"1\" class=\"dataframe\">\n",
       "  <thead>\n",
       "    <tr style=\"text-align: right;\">\n",
       "      <th>rlgblg</th>\n",
       "      <th>1</th>\n",
       "      <th>2</th>\n",
       "    </tr>\n",
       "    <tr>\n",
       "      <th>cntry</th>\n",
       "      <th></th>\n",
       "      <th></th>\n",
       "    </tr>\n",
       "  </thead>\n",
       "  <tbody>\n",
       "    <tr>\n",
       "      <th>AT</th>\n",
       "      <td>72.686567</td>\n",
       "      <td>26.716418</td>\n",
       "    </tr>\n",
       "    <tr>\n",
       "      <th>CH</th>\n",
       "      <td>61.245902</td>\n",
       "      <td>38.426230</td>\n",
       "    </tr>\n",
       "    <tr>\n",
       "      <th>DE</th>\n",
       "      <td>54.698457</td>\n",
       "      <td>45.196353</td>\n",
       "    </tr>\n",
       "    <tr>\n",
       "      <th>ES</th>\n",
       "      <td>66.956078</td>\n",
       "      <td>32.533197</td>\n",
       "    </tr>\n",
       "  </tbody>\n",
       "</table>\n",
       "</div>"
      ],
      "text/plain": [
       "rlgblg          1          2\n",
       "cntry                       \n",
       "AT      72.686567  26.716418\n",
       "CH      61.245902  38.426230\n",
       "DE      54.698457  45.196353\n",
       "ES      66.956078  32.533197"
      ]
     },
     "execution_count": 43,
     "metadata": {},
     "output_type": "execute_result"
    }
   ],
   "source": [
    "df_grouped_religion"
   ]
  },
  {
   "cell_type": "code",
   "execution_count": 44,
   "metadata": {},
   "outputs": [],
   "source": [
    "# reset index to prepare dataset for grouped bar plot\n",
    "df_grouped_religion.reset_index(inplace=True)"
   ]
  },
  {
   "cell_type": "code",
   "execution_count": 45,
   "metadata": {},
   "outputs": [],
   "source": [
    "# convert column names to str to prepare dataset for grouped bar plot\n",
    "df_grouped_religion.columns = df_grouped_religion.columns.map(str)"
   ]
  },
  {
   "cell_type": "code",
   "execution_count": 46,
   "metadata": {},
   "outputs": [
    {
     "data": {
      "image/png": "[encoded data removed]",
      "text/plain": [
       "<Figure size 720x360 with 1 Axes>"
      ]
     },
     "metadata": {},
     "output_type": "display_data"
    }
   ],
   "source": [
    "# plot the percentages of answers for each level by country in a grouped bar plot\n",
    "\n",
    "colors = sns.color_palette('cubehelix_r', 2)\n",
    "legend_label = ['1: yes', '2: no']\n",
    "ax2 = df_grouped_religion.plot(x='cntry', y=['1', '2'], kind='bar', figsize=(10, 5), color=colors)\n",
    "ax2.set_facecolor('white')\n",
    "ax2.set_xlabel('Country')\n",
    "ax2.set_ylabel('Percentage of people')\n",
    "ax2.set_title('Do you belong to a religion or denomination?')\n",
    "ax2.legend(loc='center right', bbox_to_anchor=(1.1,0.5), bbox_transform=plt.gcf().transFigure, \n",
    "          prop={'size': 12}, labels=legend_label);"
   ]
  },
  {
   "cell_type": "markdown",
   "metadata": {},
   "source": [
    "### Conclusions\n",
    "\n",
    "- **CH** shows higher proportion of super happy people.\n",
    "- **DE** has the higher proportion of unhappy people (but percentages are still very low so it’s nothing to worry about).\n",
    "- **ES** shows the higher proportion of people who meet every day with friends, relatives or work colleagues.\n",
    "- **AT** has the higher proportion of people who belong to a religion."
   ]
  },
  {
   "cell_type": "markdown",
   "metadata": {},
   "source": [
    "---"
   ]
  }
 ],
 "metadata": {
  "kernelspec": {
   "display_name": "Python [conda env:sklearn] *",
   "language": "python",
   "name": "conda-env-sklearn-py"
  },
  "language_info": {
   "codemirror_mode": {
    "name": "ipython",
    "version": 3
   },
   "file_extension": ".py",
   "mimetype": "text/x-python",
   "name": "python",
   "nbconvert_exporter": "python",
   "pygments_lexer": "ipython3",
   "version": "3.7.5"
  }
 },
 "nbformat": 4,
 "nbformat_minor": 2
}
